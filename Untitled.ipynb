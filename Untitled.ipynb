{
 "cells": [
  {
   "cell_type": "code",
   "execution_count": null,
   "id": "c063f578-e718-44f0-9fb4-e112431413e6",
   "metadata": {},
   "outputs": [],
   "source": [
    "1.'''A variable name must start with a letter or an underscore character (_)\n",
    "A variable name cannot start with a digit\n",
    "A variable name can only contain alpha-numeric characters and underscores (a-z, A-Z, 0-9, and _ )\n",
    "Variable names are case-sensitive (age, Age and AGE are three different variables)'''\n",
    "2.# It will give syntax error\n",
    "3.#we can define a variable name with the string by adding the input string as a key into the symbol table. \n",
    "4.'''yes \n",
    "ex-class Test:\n",
    "\n",
    "    def __init__(self):\n",
    "        self.name = \"datacamp\"\n",
    "        self._num = 7\n",
    "\n",
    "obj = Test()\n",
    "print(obj.name)\n",
    "print(obj._num)'''\n",
    "5.\n"
   ]
  }
 ],
 "metadata": {
  "kernelspec": {
   "display_name": "Python 3 (ipykernel)",
   "language": "python",
   "name": "python3"
  },
  "language_info": {
   "codemirror_mode": {
    "name": "ipython",
    "version": 3
   },
   "file_extension": ".py",
   "mimetype": "text/x-python",
   "name": "python",
   "nbconvert_exporter": "python",
   "pygments_lexer": "ipython3",
   "version": "3.10.8"
  }
 },
 "nbformat": 4,
 "nbformat_minor": 5
}
